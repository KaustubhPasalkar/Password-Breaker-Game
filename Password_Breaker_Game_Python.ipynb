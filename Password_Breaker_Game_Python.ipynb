{
  "cells": [
    {
      "cell_type": "code",
      "execution_count": null,
      "metadata": {
        "colab": {
          "background_save": true,
          "base_uri": "https://localhost:8080/"
        },
        "id": "n-381WQB9VHp",
        "outputId": "20db3988-6d33-4fe9-fb8d-73b4dd7071ff"
      },
      "outputs": [
        {
          "name": "stdout",
          "output_type": "stream",
          "text": [
            "Welcome to the password breaker game!\n",
            "\n"
          ]
        }
      ],
      "source": [
        "import random\n",
        "#List of all Possible passwords\n",
        "passwords = ['about', 'after', 'again', 'below', 'could',\n",
        "'every', 'first', 'found', 'great', 'house', 'large', 'learn',\n",
        "'never', 'other', 'place', 'plant', 'point', 'right', 'small',\n",
        "'sound', 'spell', 'still', 'study', 'their', 'there', 'these',\n",
        "'thing', 'think', 'three', 'water', 'where', 'which', 'world',\n",
        "'would', 'write']\n",
        "\n",
        "guessed_password = \"\"\n",
        "\n",
        "print(\"Welcome to the password breaker game!\\n\")\n",
        "\n",
        "while True:\n",
        " random_password = random.choice(passwords)\n",
        " #Select the mode of the Game (Easy/Hard)\n",
        " game_mode = input(\"Which mode would you like to play on (easy/hard)?\\n\").lower()\n",
        " count = 0\n",
        "\n",
        " #If Game Mode is Easy\n",
        " if game_mode.lower() == \"easy\":\n",
        "   while True:\n",
        "    guessed_password = input(\"Enter a guess: \\n\").lower()\n",
        "    #If the user wants to quit the Game\n",
        "    if guessed_password == \"quit\":\n",
        "     print(f\"The Password was {random_password}\\n{count} guesses used.\\n\")\n",
        "     break\n",
        "    count = count+1\n",
        "    #If the Entered Password is Correct\n",
        "    if guessed_password == random_password:\n",
        "      print(f\"Correct! {count} guesses used.\\n\")\n",
        "      break\n",
        "    common_letters = set(random_password).intersection(guessed_password)\n",
        "    print(len(common_letters),\" letters correct.\\n\")\n",
        "\n",
        " #If Game Mode is Hard\n",
        " elif game_mode.lower() == \"hard\":\n",
        "   while count < 5:\n",
        "    guessed_password = input(\"Enter a guess: \\n\").lower()\n",
        "    #If the user wants to quit the Game\n",
        "    if guessed_password == \"quit\":\n",
        "     print(f\"The Password was {random_password}\\n{count} guesses used.\\n\")\n",
        "     break\n",
        "    count = count+1\n",
        "    #If the Entered Password is Correct\n",
        "    if guessed_password == random_password:\n",
        "      print(f\"Correct! {count} guesses used.\\n\")\n",
        "      break\n",
        "    common_letters = set(random_password).intersection(guessed_password)\n",
        "    print(len(common_letters),\" letters correct.\\n\")\n",
        "    #Prints the numbers of attempts remaining\n",
        "    print(f\"{5-count} attempts remaining\")\n",
        "    if count == 5:\n",
        "     print(f\"The Password was {random_password}\\n\")\n",
        "\n",
        "#If the User wants to play Again\n",
        " replay = input(\"Play again (yes/no)?\\n\").lower()\n",
        " if replay != \"yes\":\n",
        "  break\n",
        "\n",
        "\n"
      ]
    }
  ],
  "metadata": {
    "colab": {
      "provenance": []
    },
    "kernelspec": {
      "display_name": "Python 3",
      "name": "python3"
    },
    "language_info": {
      "name": "python"
    }
  },
  "nbformat": 4,
  "nbformat_minor": 0
}